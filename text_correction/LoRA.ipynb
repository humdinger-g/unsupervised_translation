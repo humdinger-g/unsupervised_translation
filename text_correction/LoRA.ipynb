{
 "cells": [
  {
   "cell_type": "code",
   "execution_count": null,
   "metadata": {},
   "outputs": [],
   "source": [
    "import warnings\n",
    "warnings.filterwarnings('ignore')\n",
    "\n",
    "import numpy as np\n",
    "from datasets import (Dataset, \n",
    "                      DatasetDict,\n",
    "                      load_dataset,\n",
    "                      load_from_disk)\n",
    "from transformers import (AutoTokenizer, \n",
    "                          AutoModelForSeq2SeqLM, \n",
    "                          T5ForConditionalGeneration, \n",
    "                          Seq2SeqTrainer, \n",
    "                          Seq2SeqTrainingArguments, \n",
    "                          BitsAndBytesConfig)"
   ]
  },
  {
   "cell_type": "code",
   "execution_count": null,
   "metadata": {},
   "outputs": [],
   "source": [
    "dataset = load_dataset(\"gudleifrr/text-correction-en-ru\")\n",
    "\n",
    "bnb_config = BitsAndBytesConfig(load_in_8_bit=True)\n",
    "\n",
    "tokenizer = AutoTokenizer.from_pretrained(\"google/mt5-large\")\n",
    "specials = ['<исправить>', '<fix>', '<NULL>']\n",
    "tokenizer.add_tokens(specials)\n",
    "\n",
    "def preprocess(ex):\n",
    "    inputs = [\n",
    "        ('<исправить>: ' if lang=='ru' else '<fix>: ') + bad_text for lang, bad_text in zip(ex['lang'], ex['bad_text'])\n",
    "    ]\n",
    "\n",
    "    targets = [good_text for good_text in ex['text']]\n",
    "    model_inputs = tokenizer(inputs, text_target=targets, max_length=256, truncation=True)\n",
    "    return model_inputs\n",
    "\n",
    "tokenized_dataset = dataset.map(preprocess, batched=True, remove_columns=dataset['train'].columns_names)"
   ]
  },
  {
   "cell_type": "code",
   "execution_count": null,
   "metadata": {},
   "outputs": [],
   "source": [
    "from peft import LoraConfig, TaskType, get_peft_model\n",
    "import torch\n",
    "from transformers import DataCollatorForSeq2Seq\n",
    "\n",
    "model = AutoModelForSeq2SeqLM.from_pretrained(\"google/mt5-large\")\n",
    "model.resize_token_embeddings(len(tokenizer))\n",
    "\n",
    "peft_config = LoraConfig(\n",
    "    task_type=TaskType.SEQ_2_SEQ_LM,\n",
    "    r=16,\n",
    "    lora_alpha=16,\n",
    "    lora_dropout=0.1,\n",
    "    target_modules='all_linear',\n",
    "    modules_to_save=[\n",
    "        'shared',\n",
    "        'lm_head',\n",
    "        'encoder.block.0.layer.0.SelfAttention.relative_attention_bias',\n",
    "        'decoder.block.0.layer.0.SelfAttention.relative_attention_bias'\n",
    "    ],\n",
    "    bias='none',\n",
    "    use_rslora=True\n",
    "\n",
    ")\n",
    "\n",
    "model = get_peft_model(model, peft_config)\n",
    "model.print_trainable_parameters()"
   ]
  },
  {
   "cell_type": "code",
   "execution_count": null,
   "metadata": {},
   "outputs": [],
   "source": [
    "data_collator = DataCollatorForSeq2Seq(tokenizer, model=model)\n",
    "training_args = Seq2SeqTrainingArguments(\n",
    "    output_dir=\"./mt5-text-correction-enru\",\n",
    "    gradient_accumulation_steps=8,\n",
    "    learning_rate=5e-4,\n",
    "    per_device_train_batch_size=2,\n",
    "    per_device_eval_batch_size=4,\n",
    "    weight_decay=0.01,\n",
    "    save_total_limit=1,\n",
    "    num_train_epochs=1,\n",
    "    warmup_steps=100,\n",
    "    logging_dir=\"./mt5_training_logs\",\n",
    "    logging_steps=1\n",
    ")\n",
    "\n",
    "trainer = Seq2SeqTrainer(\n",
    "    model=model,\n",
    "    args=training_args,\n",
    "    train_dataset=tokenized_dataset['train'],\n",
    "    tokenizer=tokenizer,\n",
    "    data_collator=data_collator\n",
    ")"
   ]
  },
  {
   "cell_type": "code",
   "execution_count": null,
   "metadata": {},
   "outputs": [],
   "source": [
    "trainer.train()"
   ]
  },
  {
   "cell_type": "code",
   "execution_count": null,
   "metadata": {},
   "outputs": [],
   "source": [
    "trainer.push_to_hub()"
   ]
  }
 ],
 "metadata": {
  "language_info": {
   "name": "python"
  }
 },
 "nbformat": 4,
 "nbformat_minor": 2
}
